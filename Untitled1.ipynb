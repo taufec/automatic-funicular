{
  "nbformat": 4,
  "nbformat_minor": 0,
  "metadata": {
    "colab": {
      "provenance": [],
      "authorship_tag": "ABX9TyO+v4HmMWjydl3SOePVykYm",
      "include_colab_link": true
    },
    "kernelspec": {
      "name": "python3",
      "display_name": "Python 3"
    },
    "language_info": {
      "name": "python"
    }
  },
  "cells": [
    {
      "cell_type": "markdown",
      "metadata": {
        "id": "view-in-github",
        "colab_type": "text"
      },
      "source": [
        "<a href=\"https://colab.research.google.com/github/taufec/automatic-funicular/blob/main/Untitled1.ipynb\" target=\"_parent\"><img src=\"https://colab.research.google.com/assets/colab-badge.svg\" alt=\"Open In Colab\"/></a>"
      ]
    },
    {
      "cell_type": "code",
      "execution_count": 1,
      "metadata": {
        "colab": {
          "base_uri": "https://localhost:8080/"
        },
        "id": "Tx5Dlzu8-eVo",
        "outputId": "a8f69fc8-ab48-410f-bef6-0549c0c4b0db"
      },
      "outputs": [
        {
          "output_type": "stream",
          "name": "stdout",
          "text": [
            "Data received: {'code': 0, 'msg': \"Service unavailable from a restricted location according to 'b. Eligibility' in https://www.binance.com/en/terms. Please contact customer service if you believe you received this message in error.\"}\n",
            "Unexpected data format: {'code': 0, 'msg': \"Service unavailable from a restricted location according to 'b. Eligibility' in https://www.binance.com/en/terms. Please contact customer service if you believe you received this message in error.\"}\n",
            "✅ Data berjaya disimpan sebagai ETHUSDT_5m_data.csv\n"
          ]
        }
      ],
      "source": [
        "import requests\n",
        "import pandas as pd\n",
        "import time\n",
        "\n",
        "def get_binance_klines(symbol, interval, start_time, end_time=None, limit=1000):\n",
        "    url = \"https://api.binance.com/api/v3/klines\"\n",
        "    params = {\n",
        "        \"symbol\": symbol,\n",
        "        \"interval\": interval,\n",
        "        \"startTime\": start_time,\n",
        "        \"endTime\": end_time,\n",
        "        \"limit\": limit\n",
        "    }\n",
        "    response = requests.get(url, params=params)\n",
        "    try:\n",
        "        data = response.json()\n",
        "    except Exception as e:\n",
        "        print(\"Error decoding JSON:\", e)\n",
        "        return None\n",
        "    return data\n",
        "\n",
        "symbol = \"ETHUSDT\"\n",
        "interval = \"5m\"\n",
        "start_time = int(pd.Timestamp(\"2018-01-01\").timestamp() * 1000)  # 1 Jan 2018\n",
        "end_time = int(pd.Timestamp(\"2024-03-01\").timestamp() * 1000)      # 1 Mac 2024\n",
        "\n",
        "all_data = []\n",
        "\n",
        "while start_time < end_time:\n",
        "    data = get_binance_klines(symbol, interval, start_time)\n",
        "\n",
        "    # Debug: print data yang diterima\n",
        "    print(\"Data received:\", data)\n",
        "\n",
        "    if not data or not isinstance(data, list):\n",
        "        print(\"Unexpected data format:\", data)\n",
        "        break\n",
        "\n",
        "    if len(data) == 0:\n",
        "        break  # Tiada data lagi\n",
        "\n",
        "    for candle in data:\n",
        "        try:\n",
        "            all_data.append([\n",
        "                candle[0],                    # Open Time\n",
        "                float(candle[1]),             # Open Price\n",
        "                float(candle[2]),             # High Price\n",
        "                float(candle[3]),             # Low Price\n",
        "                float(candle[4]),             # Close Price\n",
        "                float(candle[5]),             # Volume\n",
        "            ])\n",
        "        except Exception as e:\n",
        "            print(\"Error processing candle:\", candle, e)\n",
        "            continue\n",
        "\n",
        "    start_time = data[-1][0] + 1\n",
        "    time.sleep(1)  # Elak rate limit\n",
        "\n",
        "# Simpan ke DataFrame dan CSV\n",
        "df = pd.DataFrame(all_data, columns=[\"timestamp\", \"open\", \"high\", \"low\", \"close\", \"volume\"])\n",
        "df[\"timestamp\"] = pd.to_datetime(df[\"timestamp\"], unit=\"ms\")\n",
        "df.to_csv(\"ETHUSDT_5m_data.csv\", index=False)\n",
        "\n",
        "print(\"✅ Data berjaya disimpan sebagai ETHUSDT_5m_data.csv\")\n"
      ]
    }
  ]
}